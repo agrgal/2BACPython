{
  "nbformat": 4,
  "nbformat_minor": 0,
  "metadata": {
    "colab": {
      "provenance": [],
      "authorship_tag": "ABX9TyPAxHfEoBiV6DcaYTMra5I5",
      "include_colab_link": true
    },
    "kernelspec": {
      "name": "python3",
      "display_name": "Python 3"
    },
    "language_info": {
      "name": "python"
    }
  },
  "cells": [
    {
      "cell_type": "markdown",
      "metadata": {
        "id": "view-in-github",
        "colab_type": "text"
      },
      "source": [
        "<a href=\"https://colab.research.google.com/github/agrgal/2BACPython/blob/main/fracciones.ipynb\" target=\"_parent\"><img src=\"https://colab.research.google.com/assets/colab-badge.svg\" alt=\"Open In Colab\"/></a>"
      ]
    },
    {
      "cell_type": "markdown",
      "source": [
        "Creo una clase llamada **fraccion**. Esta clase es capaz de aceptar dos números, el denominador y el numerador."
      ],
      "metadata": {
        "id": "Nw6HfPJs1TLc"
      }
    },
    {
      "cell_type": "code",
      "source": [
        "import numpy as np\n",
        "from decimal import Decimal"
      ],
      "metadata": {
        "id": "pO-JBR0r1jQH"
      },
      "execution_count": 67,
      "outputs": []
    },
    {
      "cell_type": "code",
      "execution_count": 68,
      "metadata": {
        "id": "ZgzTMuD9sQki"
      },
      "outputs": [],
      "source": [
        "class fraccion:\n",
        "  # Clase que representa una fracción, dados su numerados y su denominador\n",
        "\n",
        "  # =====================================\n",
        "  # Constructor\n",
        "  # =====================================\n",
        "  def __init__(self, num = 0, den = 1):\n",
        "    self.n = num #defino el atributo numerador\n",
        "    self.d = den #defino el atributo denominador\n",
        "    self.normalizacion()\n",
        "\n",
        "  # =====================================\n",
        "  # Procedimiento de introduccion\n",
        "  # =====================================\n",
        "  def valores(self):\n",
        "    while True:\n",
        "      try:\n",
        "          num = float(input(\"Introduce el numerador: \"))\n",
        "          den = float(input(\"Introduce el denominador: \"))\n",
        "          if den == 0:\n",
        "            raise ValueError(\"El denominador no puede ser cero. Inténtalo de nuevo.\")\n",
        "          self.n = num\n",
        "          self.d = den\n",
        "          self.normalizacion()\n",
        "          break  # Salir del bucle si los valores son válidos\n",
        "      except ValueError as e:\n",
        "          print(e)\n",
        "\n",
        "\n",
        "  # =============================================================\n",
        "  # Procedimiento de normalización y simplificación de fracciones\n",
        "  # =============================================================\n",
        "  def normalizacion(self):\n",
        "\n",
        "    try:\n",
        "      # Si el denominador es cero\n",
        "      if self.d==0:\n",
        "        raise ValueError(\"Denominador cero. Fracción no posible.\")\n",
        "\n",
        "      # Procedimiento que evita numeradores y denominadores con parte decimal\n",
        "      if self.n==0: # caso que el numerador sea cero\n",
        "        self.d=1\n",
        "        return\n",
        "\n",
        "      n_decimal = Decimal(str(self.n))\n",
        "      d_decimal = Decimal(str(self.d))\n",
        "\n",
        "      #print(n_decimal.as_tuple().exponent) #esto genera el número de decimales, pero negativo\n",
        "\n",
        "      decimales = max(-n_decimal.as_tuple().exponent,-d_decimal.as_tuple().exponent)\n",
        "      if (self.n!=int(self.n)) or (self.d!=int(self.d)): # lo aplica solo cuando es distinta la parte entera de la que tiene decimales\n",
        "        self.n=self.n*(10**decimales)\n",
        "        self.d=self.d*(10**decimales)\n",
        "\n",
        "      # Cálculo del máximo común divisor. Uso la biblioteca numpy.\n",
        "      # Simplificación de la fracción.\n",
        "      mcd = np.gcd(int(self.n),int(self.d)) #importante pasarlos a enteros\n",
        "      self.n /= mcd\n",
        "      self.d /= mcd\n",
        "    except ValueError as e:\n",
        "      print(e)\n",
        "\n",
        "  # =====================================\n",
        "  # Procedimiento de impresión en pantalla\n",
        "  # =====================================\n",
        "  def imprimir(self):\n",
        "    signo = np.sign(self.n*self.d)\n",
        "    sigcadena = (\"-\" if signo==-1 else \"\")\n",
        "    numcadena = str(np.abs(int(self.n)))\n",
        "    dencadena = ((\"/\"+str(np.abs(int(self.d)))) if np.abs(self.d)>1 else \"\")\n",
        "    print(\"%s%s%s\"%(sigcadena,numcadena,dencadena))\n",
        "\n",
        "  # =====================================\n",
        "  # Suma de fracciones\n",
        "  # =====================================\n",
        "  def suma(self,otro):\n",
        "    fs = fraccion()\n",
        "    fs.n = self.n*otro.d+otro.n*self.d\n",
        "    fs.d = self.d*otro.d\n",
        "    fs.normalizacion()\n",
        "    return fs\n",
        "\n",
        "  # =====================================\n",
        "  # Multiplicación de fracciones\n",
        "  # =====================================\n",
        "  def multiplicar(self,otro):\n",
        "    fs=fraccion()\n",
        "    fs.n = self.n*otro.n\n",
        "    fs.d = self.d*otro.d\n",
        "    fs.normalizacion()\n",
        "    return fs\n",
        "\n",
        "  # =====================================\n",
        "  # Resta de fracciones\n",
        "  # =====================================\n",
        "  def resta(self,otro):\n",
        "   sec = otro.porN(-1)\n",
        "   return self.suma(sec)\n",
        "\n",
        "  # =====================================\n",
        "  # División de fracciones\n",
        "  # =====================================\n",
        "\n",
        "  # =====================================\n",
        "  # Potencia de fracciones a un número n\n",
        "  # =====================================\n",
        "\n",
        "  # =====================================\n",
        "  # Raíz de fracciones a un número n\n",
        "  # =====================================\n",
        "\n",
        "  # =======================================\n",
        "  # Multiplicar por un número n la fracción\n",
        "  # =======================================\n",
        "  def porN(self,n):\n",
        "    fs = fraccion()\n",
        "    fs.n=n*self.n\n",
        "    fs.d=self.d\n",
        "    fs.normalizacion()\n",
        "    return fs\n",
        "\n",
        "  # =====================================\n",
        "  # Fracción inversa\n",
        "  # =====================================\n",
        "\n",
        "  # =====================================\n",
        "  # Valor decimal de una fracción\n",
        "  # ====================================="
      ]
    },
    {
      "cell_type": "code",
      "source": [
        "4# ------------------------------\n",
        "# Programa Principal\n",
        "# -----------------------------\n",
        "\n",
        "'''f=fraccion(40,11)\n",
        "\n",
        "a = fraccion()\n",
        "a.valores()\n",
        "b = fraccion()\n",
        "b.valores()\n",
        "\n",
        "a.imprimir()\n",
        "b.imprimir()\n",
        "f.imprimir() '''\n",
        "\n",
        "a = fraccion(1,2)\n",
        "b= fraccion(1,8)\n",
        "\n",
        "c = a.suma(b)\n",
        "c.imprimir()\n",
        "\n",
        "d = b.multiplicar(a)\n",
        "d.imprimir()\n"
      ],
      "metadata": {
        "colab": {
          "base_uri": "https://localhost:8080/"
        },
        "id": "-L0GXiKn1jRu",
        "outputId": "47565653-3ec6-4ab7-986e-5fe92ee639e3"
      },
      "execution_count": 69,
      "outputs": [
        {
          "output_type": "stream",
          "name": "stdout",
          "text": [
            "5/8\n",
            "1/16\n"
          ]
        }
      ]
    }
  ]
}