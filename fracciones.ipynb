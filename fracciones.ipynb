{
  "nbformat": 4,
  "nbformat_minor": 0,
  "metadata": {
    "colab": {
      "provenance": [],
      "authorship_tag": "ABX9TyOb2X8uDHLUrsATAt+UMcUW",
      "include_colab_link": true
    },
    "kernelspec": {
      "name": "python3",
      "display_name": "Python 3"
    },
    "language_info": {
      "name": "python"
    }
  },
  "cells": [
    {
      "cell_type": "markdown",
      "metadata": {
        "id": "view-in-github",
        "colab_type": "text"
      },
      "source": [
        "<a href=\"https://colab.research.google.com/github/agrgal/2BACPython/blob/main/fracciones.ipynb\" target=\"_parent\"><img src=\"https://colab.research.google.com/assets/colab-badge.svg\" alt=\"Open In Colab\"/></a>"
      ]
    },
    {
      "cell_type": "markdown",
      "source": [
        "Creo una clase llamada **fraccion**. Esta clase es capaz de aceptar dos números, el denominador y el numerador."
      ],
      "metadata": {
        "id": "Nw6HfPJs1TLc"
      }
    },
    {
      "cell_type": "code",
      "source": [
        "import numpy as np\n",
        "from decimal import Decimal"
      ],
      "metadata": {
        "id": "pO-JBR0r1jQH"
      },
      "execution_count": 52,
      "outputs": []
    },
    {
      "cell_type": "code",
      "execution_count": 67,
      "metadata": {
        "id": "ZgzTMuD9sQki"
      },
      "outputs": [],
      "source": [
        "class fraccion:\n",
        "  # Clase que representa una fracción, dados su numerados y su denominador\n",
        "\n",
        "  # =====================================\n",
        "  # Constructor\n",
        "  # =====================================\n",
        "  def __init__(self, num = 0, den = 1):\n",
        "    if den==0:\n",
        "      raise ValueError (\"Error de cero en el denominador\")\n",
        "    self.n = num #defino el atributo numerador\n",
        "    self.d = den #defino el atributo denominador\n",
        "    self.normalizacion()\n",
        "\n",
        "  # =====================================\n",
        "  # Procedimiento de introduccion\n",
        "  # =====================================\n",
        "  def valores(self):\n",
        "    while True:\n",
        "      try:\n",
        "          num = float(input(\"Introduce el numerador: \"))\n",
        "          den = float(input(\"Introduce el denominador: \"))\n",
        "          if den == 0:\n",
        "            raise ValueError(\"El denominador no puede ser cero. Inténtalo de nuevo.\")\n",
        "          self.n = num\n",
        "          self.d = den\n",
        "          self.normalizacion()\n",
        "          break  # Salir del bucle si los valores son válidos\n",
        "      except ValueError as e:\n",
        "          print(e)\n",
        "\n",
        "\n",
        "\n",
        "  # =====================================\n",
        "  # Procedimiento de normalización\n",
        "  # =====================================\n",
        "  def normalizacion(self):\n",
        "    # Procedimiento que evita numeradores y denominadores con parte decimal\n",
        "    if self.n==0: # caso que el numerador sea cero\n",
        "      self.d=1\n",
        "      return\n",
        "\n",
        "    n_decimal = Decimal(str(self.n))\n",
        "    d_decimal = Decimal(str(self.d))\n",
        "\n",
        "    #print(n_decimal.as_tuple().exponent) #esto genera el número de decimales, pero negativo\n",
        "\n",
        "    decimales = max(-n_decimal.as_tuple().exponent,-d_decimal.as_tuple().exponent)\n",
        "    if (self.n!=int(self.n)) or (self.d!=int(self.d)): # lo aplica solo cuando es distinta la parte entera de la que tiene decimales\n",
        "      self.n=self.n*(10**decimales)\n",
        "      self.d=self.d*(10**decimales)\n",
        "\n",
        "  # =====================================\n",
        "  # Procedimiento de impresión en pantalla\n",
        "  # =====================================\n",
        "  def imprimir(self):\n",
        "    signo = np.sign(self.n*self.d)\n",
        "    if signo==-1:\n",
        "      print(\"-%d/%d\"%(np.abs(self.n),np.abs(self.d)))\n",
        "    elif signo==0:\n",
        "      print(\"0\")\n",
        "    else:\n",
        "      print(\"%d/%d\"%(np.abs(self.n),np.abs(self.d)))\n",
        ""
      ]
    },
    {
      "cell_type": "code",
      "source": [
        "# ------------------------------\n",
        "# Programa Principal\n",
        "# -----------------------------\n",
        "\n",
        "a = fraccion()\n",
        "a.valores()\n",
        "b = fraccion()\n",
        "b.valores()\n",
        "\n",
        "a.imprimir()\n",
        "b.imprimir()\n"
      ],
      "metadata": {
        "colab": {
          "base_uri": "https://localhost:8080/"
        },
        "id": "-L0GXiKn1jRu",
        "outputId": "5a4a15f4-3f0d-40bb-b260-c6e328342909"
      },
      "execution_count": 69,
      "outputs": [
        {
          "output_type": "stream",
          "name": "stdout",
          "text": [
            "Introduce el numerador: 23.6\n",
            "Introduce el denominador: 21\n",
            "-1\n",
            "1\n",
            "Introduce el numerador: 23.6\n",
            "Introduce el denominador: 12.121321321\n",
            "-1\n",
            "9\n",
            "236/210\n",
            "23600000000/12121321321\n"
          ]
        }
      ]
    }
  ]
}