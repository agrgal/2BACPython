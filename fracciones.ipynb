{
  "nbformat": 4,
  "nbformat_minor": 0,
  "metadata": {
    "colab": {
      "provenance": [],
      "authorship_tag": "ABX9TyO51l31eTWlBuQFQ0OmMkb1",
      "include_colab_link": true
    },
    "kernelspec": {
      "name": "python3",
      "display_name": "Python 3"
    },
    "language_info": {
      "name": "python"
    }
  },
  "cells": [
    {
      "cell_type": "markdown",
      "metadata": {
        "id": "view-in-github",
        "colab_type": "text"
      },
      "source": [
        "<a href=\"https://colab.research.google.com/github/agrgal/2BACPython/blob/main/fracciones.ipynb\" target=\"_parent\"><img src=\"https://colab.research.google.com/assets/colab-badge.svg\" alt=\"Open In Colab\"/></a>"
      ]
    },
    {
      "cell_type": "markdown",
      "source": [
        "Creo una clase llamada **fraccion**. Esta clase es capaz de aceptar dos números, el denominador y el numerador."
      ],
      "metadata": {
        "id": "Nw6HfPJs1TLc"
      }
    },
    {
      "cell_type": "code",
      "source": [],
      "metadata": {
        "id": "pO-JBR0r1jQH"
      },
      "execution_count": null,
      "outputs": []
    },
    {
      "cell_type": "code",
      "execution_count": 7,
      "metadata": {
        "id": "ZgzTMuD9sQki"
      },
      "outputs": [],
      "source": [
        "class fraccion:\n",
        "  # Clase que representa una fracción, dados su numerados y su denominador\n",
        "\n",
        "  def __init__(self, num = 0.0, den = 1.0):\n",
        "    self.n = num #defino el atributo numerador\n",
        "    self.d = den #defino el atributo denominador\n",
        "\n",
        "  def imprimir(self):\n",
        "    print(\"%s/%s\"%(self.n,self.d))"
      ]
    },
    {
      "cell_type": "code",
      "source": [
        "# Programa Principal\n",
        "\n",
        "a = fraccion(5,4)\n",
        "b = fraccion(7,9)\n",
        "\n",
        "a.imprimir()\n",
        "b.imprimir()"
      ],
      "metadata": {
        "id": "-L0GXiKn1jRu",
        "outputId": "b048fffb-da13-4240-94f6-ea254ac8b887",
        "colab": {
          "base_uri": "https://localhost:8080/"
        }
      },
      "execution_count": 8,
      "outputs": [
        {
          "output_type": "stream",
          "name": "stdout",
          "text": [
            "5/4\n",
            "7/9\n"
          ]
        }
      ]
    }
  ]
}