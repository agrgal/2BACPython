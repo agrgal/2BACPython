{
  "nbformat": 4,
  "nbformat_minor": 0,
  "metadata": {
    "colab": {
      "provenance": [],
      "authorship_tag": "ABX9TyOw7X5IEidxdlNsUaKCCZQs",
      "include_colab_link": true
    },
    "kernelspec": {
      "name": "python3",
      "display_name": "Python 3"
    },
    "language_info": {
      "name": "python"
    }
  },
  "cells": [
    {
      "cell_type": "markdown",
      "metadata": {
        "id": "view-in-github",
        "colab_type": "text"
      },
      "source": [
        "<a href=\"https://colab.research.google.com/github/agrgal/2BACPython/blob/main/fracciones.ipynb\" target=\"_parent\"><img src=\"https://colab.research.google.com/assets/colab-badge.svg\" alt=\"Open In Colab\"/></a>"
      ]
    },
    {
      "cell_type": "markdown",
      "source": [
        "Creo una clase llamada **fraccion**. Esta clase es capaz de aceptar dos números, el denominador y el numerador."
      ],
      "metadata": {
        "id": "Nw6HfPJs1TLc"
      }
    },
    {
      "cell_type": "code",
      "source": [
        "import numpy as np\n",
        "from decimal import Decimal"
      ],
      "metadata": {
        "id": "pO-JBR0r1jQH"
      },
      "execution_count": 39,
      "outputs": []
    },
    {
      "cell_type": "code",
      "execution_count": 44,
      "metadata": {
        "id": "ZgzTMuD9sQki"
      },
      "outputs": [],
      "source": [
        "class fraccion:\n",
        "  # Clase que representa una fracción, dados su numerados y su denominador\n",
        "\n",
        "  def __init__(self, num = 0, den = 1):\n",
        "    self.n = num #defino el atributo numerador\n",
        "    self.d = den #defino el atributo denominador\n",
        "    self.normalizacion()\n",
        "\n",
        "  def normalizacion(self):\n",
        "    # Procedimiento que evita numeradores y denominadores con parte decimal\n",
        "    if self.n==0: # caso que el numerador sea cero\n",
        "      self.d=1\n",
        "      return\n",
        "\n",
        "    n_decimal = Decimal(str(self.n))\n",
        "    d_decimal = Decimal(str(self.d))\n",
        "\n",
        "    print(n_decimal.as_tuple().exponent) #esto genera el número de decimales, pero negativo\n",
        "    decimales = max(-n_decimal.as_tuple().exponent,-d_decimal.as_tuple().exponent)\n",
        "    self.n=self.n*(10**decimales)\n",
        "    self.d=self.d*(10**decimales)\n",
        "\n",
        "\n",
        "\n",
        "  def imprimir(self):\n",
        "    signo = np.sign(self.n*self.d)\n",
        "    if signo==-1:\n",
        "      print(\"-%d/%d\"%(np.abs(self.n),np.abs(self.d)))\n",
        "    elif signo==0:\n",
        "      print(\"0\")\n",
        "    else:\n",
        "      print(\"%d/%d\"%(np.abs(self.n),np.abs(self.d)))\n",
        ""
      ]
    },
    {
      "cell_type": "code",
      "source": [
        "# Programa Principal\n",
        "\n",
        "a = fraccion(5.32,0.718)\n",
        "b = fraccion(-7,-9)\n",
        "\n",
        "a.imprimir()\n",
        "b.imprimir()"
      ],
      "metadata": {
        "colab": {
          "base_uri": "https://localhost:8080/"
        },
        "id": "-L0GXiKn1jRu",
        "outputId": "d6d5f9a1-586b-4f84-9673-bb813e0fbc17"
      },
      "execution_count": 45,
      "outputs": [
        {
          "output_type": "stream",
          "name": "stdout",
          "text": [
            "-2\n",
            "0\n",
            "5/0\n",
            "7/9\n"
          ]
        }
      ]
    }
  ]
}