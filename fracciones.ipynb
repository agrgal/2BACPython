{
  "nbformat": 4,
  "nbformat_minor": 0,
  "metadata": {
    "colab": {
      "provenance": [],
      "authorship_tag": "ABX9TyM7u6FA1lmDCKAy2WsVfqn7"
    },
    "kernelspec": {
      "name": "python3",
      "display_name": "Python 3"
    },
    "language_info": {
      "name": "python"
    }
  },
  "cells": [
    {
      "cell_type": "code",
      "execution_count": null,
      "metadata": {
        "colab": {
          "base_uri": "https://localhost:8080/"
        },
        "id": "ZgzTMuD9sQki",
        "outputId": "819babb1-2c05-4a67-91cb-bd58c82cb162"
      },
      "outputs": [
        {
          "output_type": "stream",
          "name": "stdout",
          "text": [
            "probando\n"
          ]
        }
      ],
      "source": [
        "print(\"probando\")\n",
        "print(\"En otra rama de produccion\")"
      ]
    }
  ]
}